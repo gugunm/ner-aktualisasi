{
 "metadata": {
  "language_info": {
   "codemirror_mode": {
    "name": "ipython",
    "version": 3
   },
   "file_extension": ".py",
   "mimetype": "text/x-python",
   "name": "python",
   "nbconvert_exporter": "python",
   "pygments_lexer": "ipython3",
   "version": "3.9.4-final"
  },
  "orig_nbformat": 2,
  "kernelspec": {
   "name": "python394jvsc74a57bd0902856562a118de370ea0cc0bc467acf9774d68fe51b40e5f9a148a487e2bae1",
   "display_name": "Python 3.9.4 64-bit ('venv')"
  },
  "metadata": {
   "interpreter": {
    "hash": "902856562a118de370ea0cc0bc467acf9774d68fe51b40e5f9a148a487e2bae1"
   }
  }
 },
 "nbformat": 4,
 "nbformat_minor": 2,
 "cells": [
  {
   "source": [
    "## Connect DB & Save DataFrame"
   ],
   "cell_type": "markdown",
   "metadata": {}
  },
  {
   "source": [
    "import mysql.connector as connection\n",
    "import pandas as pd\n",
    "try:\n",
    "    mydb = connection.connect(\n",
    "        host=\"10.10.20.14\",\n",
    "        database = \"new_clipper\",\n",
    "        user=\"view_clipper\",\n",
    "        passwd=\"clipper123\",\n",
    "        use_pure=True\n",
    "        )\n",
    "    query = \"SELECT * from data_news \\\n",
    "        WHERE news_pubday='2021-04-19' \\\n",
    "        ORDER BY news_pubdate DESC LIMIT 100;\"\n",
    "    result_dataFrame = pd.read_sql(query,mydb)\n",
    "    mydb.close()\n",
    "    print(len(result_dataFrame))\n",
    "except Exception as e:\n",
    "    print(str(e))"
   ],
   "cell_type": "code",
   "metadata": {},
   "execution_count": 1,
   "outputs": [
    {
     "output_type": "stream",
     "name": "stdout",
     "text": [
      "100\n"
     ]
    }
   ]
  },
  {
   "cell_type": "code",
   "execution_count": 2,
   "metadata": {},
   "outputs": [
    {
     "output_type": "execute_result",
     "data": {
      "text/plain": [
       "      news_id     news_media  \\\n",
       "98  202272599  Antara Kalsel   \n",
       "99  202272598  Antara Kalsel   \n",
       "\n",
       "                                           news_title        news_pubdate  \\\n",
       "98  Keputusan pindah Ibu Kota banyak dilakukan neg... 2021-04-19 02:35:41   \n",
       "99  Indeks saham Australia ASX 200 menguat 0,18 pe... 2021-04-19 02:35:40   \n",
       "\n",
       "   news_pubday news_image                                       news_content  \\\n",
       "98  2021-04-19             <p>Anggota Komisi VI DPR RI Herman Khaeron men...   \n",
       "99  2021-04-19             <p>Pasar saham Australia dibuka lebih tinggi p...   \n",
       "\n",
       "                                             news_url  \\\n",
       "98  https://kalsel.antaranews.com/berita/248566/ke...   \n",
       "99  https://kalsel.antaranews.com/berita/248570/in...   \n",
       "\n",
       "                                            news_file       news_crawling  \\\n",
       "98  /home/backend/newclipper/id/20210419/antarakal... 2021-04-19 02:35:45   \n",
       "99  /home/backend/newclipper/id/20210419/antarakal... 2021-04-19 02:35:41   \n",
       "\n",
       "    clipper_id  \n",
       "98        4626  \n",
       "99        4626  "
      ],
      "text/html": "<div>\n<style scoped>\n    .dataframe tbody tr th:only-of-type {\n        vertical-align: middle;\n    }\n\n    .dataframe tbody tr th {\n        vertical-align: top;\n    }\n\n    .dataframe thead th {\n        text-align: right;\n    }\n</style>\n<table border=\"1\" class=\"dataframe\">\n  <thead>\n    <tr style=\"text-align: right;\">\n      <th></th>\n      <th>news_id</th>\n      <th>news_media</th>\n      <th>news_title</th>\n      <th>news_pubdate</th>\n      <th>news_pubday</th>\n      <th>news_image</th>\n      <th>news_content</th>\n      <th>news_url</th>\n      <th>news_file</th>\n      <th>news_crawling</th>\n      <th>clipper_id</th>\n    </tr>\n  </thead>\n  <tbody>\n    <tr>\n      <th>98</th>\n      <td>202272599</td>\n      <td>Antara Kalsel</td>\n      <td>Keputusan pindah Ibu Kota banyak dilakukan neg...</td>\n      <td>2021-04-19 02:35:41</td>\n      <td>2021-04-19</td>\n      <td></td>\n      <td>&lt;p&gt;Anggota Komisi VI DPR RI Herman Khaeron men...</td>\n      <td>https://kalsel.antaranews.com/berita/248566/ke...</td>\n      <td>/home/backend/newclipper/id/20210419/antarakal...</td>\n      <td>2021-04-19 02:35:45</td>\n      <td>4626</td>\n    </tr>\n    <tr>\n      <th>99</th>\n      <td>202272598</td>\n      <td>Antara Kalsel</td>\n      <td>Indeks saham Australia ASX 200 menguat 0,18 pe...</td>\n      <td>2021-04-19 02:35:40</td>\n      <td>2021-04-19</td>\n      <td></td>\n      <td>&lt;p&gt;Pasar saham Australia dibuka lebih tinggi p...</td>\n      <td>https://kalsel.antaranews.com/berita/248570/in...</td>\n      <td>/home/backend/newclipper/id/20210419/antarakal...</td>\n      <td>2021-04-19 02:35:41</td>\n      <td>4626</td>\n    </tr>\n  </tbody>\n</table>\n</div>"
     },
     "metadata": {},
     "execution_count": 2
    }
   ],
   "source": [
    "df = result_dataFrame.copy()\n",
    "df.tail(2)"
   ]
  },
  {
   "source": [
    "**Get Title**"
   ],
   "cell_type": "markdown",
   "metadata": {}
  },
  {
   "cell_type": "code",
   "execution_count": 8,
   "metadata": {},
   "outputs": [
    {
     "output_type": "stream",
     "name": "stdout",
     "text": [
      "Keelokan Festival Baisakhi, Patung Sang Pelindung dan Bunga Tulip Musim Semi\n"
     ]
    }
   ],
   "source": [
    "news_title = df.news_title.values\n",
    "print(news_title[4])"
   ]
  }
 ]
}