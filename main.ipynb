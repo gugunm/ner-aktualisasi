{
 "metadata": {
  "language_info": {
   "codemirror_mode": {
    "name": "ipython",
    "version": 3
   },
   "file_extension": ".py",
   "mimetype": "text/x-python",
   "name": "python",
   "nbconvert_exporter": "python",
   "pygments_lexer": "ipython3",
   "version": "3.9.4-final"
  },
  "orig_nbformat": 2,
  "kernelspec": {
   "name": "python394jvsc74a57bd0902856562a118de370ea0cc0bc467acf9774d68fe51b40e5f9a148a487e2bae1",
   "display_name": "Python 3.9.4 64-bit ('venv')"
  },
  "metadata": {
   "interpreter": {
    "hash": "902856562a118de370ea0cc0bc467acf9774d68fe51b40e5f9a148a487e2bae1"
   }
  }
 },
 "nbformat": 4,
 "nbformat_minor": 2,
 "cells": [
  {
   "source": [
    "## Connect DB & Save DataFrame"
   ],
   "cell_type": "markdown",
   "metadata": {}
  },
  {
   "source": [
    "import mysql.connector as connection\n",
    "import pandas as pd\n",
    "try:\n",
    "    mydb = connection.connect(\n",
    "        host=\"10.10.20.14\",\n",
    "        database = \"new_clipper\",\n",
    "        user=\"view_clipper\",\n",
    "        passwd=\"clipper123\",\n",
    "        use_pure=True\n",
    "        )\n",
    "    query = \"SELECT * from data_news \\\n",
    "        WHERE news_pubday='2021-04-19' \\\n",
    "        ORDER BY news_pubdate DESC LIMIT 100;\"\n",
    "    result_dataFrame = pd.read_sql(query,mydb)\n",
    "    mydb.close()\n",
    "    print(len(result_dataFrame))\n",
    "except Exception as e:\n",
    "    print(str(e))"
   ],
   "cell_type": "code",
   "metadata": {},
   "execution_count": 21,
   "outputs": [
    {
     "output_type": "stream",
     "name": "stdout",
     "text": [
      "100\n"
     ]
    }
   ]
  },
  {
   "cell_type": "code",
   "execution_count": 14,
   "metadata": {},
   "outputs": [
    {
     "output_type": "execute_result",
     "data": {
      "text/plain": [
       "      news_id    news_media  \\\n",
       "98  202272585        Antara   \n",
       "99  202272584  Antara Babel   \n",
       "\n",
       "                                           news_title        news_pubdate  \\\n",
       "98  Kemarin, imbauan larangan mudik hingga persiap... 2021-04-19 02:25:10   \n",
       "99  Anggota Brimob tewas dan seorang anggota Kopas... 2021-04-19 02:22:38   \n",
       "\n",
       "   news_pubday news_image                                       news_content  \\\n",
       "98  2021-04-19             <p>Lima berita politik pada Minggu (18/4) yang...   \n",
       "99  2021-04-19             <p>Seorang anggota Brimob ditemukan tewas dan ...   \n",
       "\n",
       "                                             news_url  \\\n",
       "98  https://www.antaranews.com/berita/2108342/kema...   \n",
       "99  https://babel.antaranews.com/berita/193126/ang...   \n",
       "\n",
       "                                            news_file       news_crawling  \\\n",
       "98  /home/backend/newclipper/id/20210419/antaraNat... 2021-04-19 02:25:12   \n",
       "99  /home/backend/newclipper/id/20210419/antarabab... 2021-04-19 02:22:39   \n",
       "\n",
       "    clipper_id  \n",
       "98         101  \n",
       "99        4614  "
      ],
      "text/html": "<div>\n<style scoped>\n    .dataframe tbody tr th:only-of-type {\n        vertical-align: middle;\n    }\n\n    .dataframe tbody tr th {\n        vertical-align: top;\n    }\n\n    .dataframe thead th {\n        text-align: right;\n    }\n</style>\n<table border=\"1\" class=\"dataframe\">\n  <thead>\n    <tr style=\"text-align: right;\">\n      <th></th>\n      <th>news_id</th>\n      <th>news_media</th>\n      <th>news_title</th>\n      <th>news_pubdate</th>\n      <th>news_pubday</th>\n      <th>news_image</th>\n      <th>news_content</th>\n      <th>news_url</th>\n      <th>news_file</th>\n      <th>news_crawling</th>\n      <th>clipper_id</th>\n    </tr>\n  </thead>\n  <tbody>\n    <tr>\n      <th>98</th>\n      <td>202272585</td>\n      <td>Antara</td>\n      <td>Kemarin, imbauan larangan mudik hingga persiap...</td>\n      <td>2021-04-19 02:25:10</td>\n      <td>2021-04-19</td>\n      <td></td>\n      <td>&lt;p&gt;Lima berita politik pada Minggu (18/4) yang...</td>\n      <td>https://www.antaranews.com/berita/2108342/kema...</td>\n      <td>/home/backend/newclipper/id/20210419/antaraNat...</td>\n      <td>2021-04-19 02:25:12</td>\n      <td>101</td>\n    </tr>\n    <tr>\n      <th>99</th>\n      <td>202272584</td>\n      <td>Antara Babel</td>\n      <td>Anggota Brimob tewas dan seorang anggota Kopas...</td>\n      <td>2021-04-19 02:22:38</td>\n      <td>2021-04-19</td>\n      <td></td>\n      <td>&lt;p&gt;Seorang anggota Brimob ditemukan tewas dan ...</td>\n      <td>https://babel.antaranews.com/berita/193126/ang...</td>\n      <td>/home/backend/newclipper/id/20210419/antarabab...</td>\n      <td>2021-04-19 02:22:39</td>\n      <td>4614</td>\n    </tr>\n  </tbody>\n</table>\n</div>"
     },
     "metadata": {},
     "execution_count": 14
    }
   ],
   "source": [
    "df = result_dataFrame.copy()\n",
    "df.tail(2)"
   ]
  }
 ]
}